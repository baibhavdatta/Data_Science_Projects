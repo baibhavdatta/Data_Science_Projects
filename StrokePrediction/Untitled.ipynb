{
 "cells": [
  {
   "cell_type": "code",
   "execution_count": null,
   "id": "7162e159",
   "metadata": {},
   "outputs": [],
   "source": [
    "import pandas as pd\n",
    "import numpy as np\n",
    "import matplotlib.pyplot as plt\n",
    "import seaborn as sns"
   ]
  },
  {
   "cell_type": "code",
   "execution_count": null,
   "id": "5ad7658d",
   "metadata": {},
   "outputs": [],
   "source": [
    "df=pd.read_csv('healthcare-dataset-stroke-data.csv')\n",
    "df=pd.DataFrame(df)\n",
    "df"
   ]
  },
  {
   "cell_type": "code",
   "execution_count": null,
   "id": "10cf212b",
   "metadata": {},
   "outputs": [],
   "source": [
    "plt.pie(df.stroke.value_counts(),autopct='%1.0f%%',labels=['No Stroke','Stroke'])"
   ]
  },
  {
   "cell_type": "code",
   "execution_count": null,
   "id": "06922abb",
   "metadata": {
    "scrolled": true
   },
   "outputs": [],
   "source": [
    "x=pd.DataFrame(df.drop(columns=['id']).describe().transpose())\n",
    "x.drop(columns=['count','25%','50%','75%'])"
   ]
  },
  {
   "cell_type": "code",
   "execution_count": null,
   "id": "030e5ef0",
   "metadata": {},
   "outputs": [],
   "source": [
    "df.isna().sum()"
   ]
  },
  {
   "cell_type": "code",
   "execution_count": null,
   "id": "a20526d8",
   "metadata": {},
   "outputs": [],
   "source": [
    "df.bmi.value_counts()"
   ]
  },
  {
   "cell_type": "code",
   "execution_count": null,
   "id": "98455322",
   "metadata": {},
   "outputs": [],
   "source": [
    "sns.histplot(df.bmi)"
   ]
  },
  {
   "cell_type": "code",
   "execution_count": null,
   "id": "410f41d0",
   "metadata": {},
   "outputs": [],
   "source": [
    "df.bmi.mean()"
   ]
  },
  {
   "cell_type": "code",
   "execution_count": null,
   "id": "f93060b7",
   "metadata": {},
   "outputs": [],
   "source": [
    "df [\"bmi\"] = df[\"bmi\"].replace(np.NaN, df[\"bmi\"].mean())"
   ]
  },
  {
   "cell_type": "code",
   "execution_count": null,
   "id": "d368e3cf",
   "metadata": {},
   "outputs": [],
   "source": [
    "df.isna().sum()"
   ]
  },
  {
   "cell_type": "code",
   "execution_count": null,
   "id": "affcd690",
   "metadata": {},
   "outputs": [],
   "source": [
    "print(df.dtypes)"
   ]
  },
  {
   "cell_type": "code",
   "execution_count": null,
   "id": "99b7b357",
   "metadata": {},
   "outputs": [],
   "source": [
    "df_numerical = ['age', 'hypertension', 'heart_disease', 'avg_glucose_level', 'bmi', 'stroke']\n",
    "numeric_columns = df[df_numerical]\n",
    "corr_matrix = numeric_columns.corr()\n",
    "sns.heatmap(corr_matrix, cmap='Blues')\n",
    "for i in range(len(corr_matrix)):\n",
    "    for j in range(len(corr_matrix)):\n",
    "        text = '{:.2f}'.format(corr_matrix.iloc[i, j])\n",
    "        plt.text(j + 0.5, i + 0.5, text, ha='center', va='center', color='black', fontsize=10)\n",
    "plt.xticks(range(len(corr_matrix.columns)), corr_matrix.columns)\n",
    "plt.yticks(range(len(corr_matrix.columns)), corr_matrix.columns)\n",
    "plt.show()"
   ]
  },
  {
   "cell_type": "code",
   "execution_count": null,
   "id": "0718914a",
   "metadata": {},
   "outputs": [],
   "source": [
    "df.age.describe()"
   ]
  },
  {
   "cell_type": "code",
   "execution_count": null,
   "id": "2c376506",
   "metadata": {},
   "outputs": [],
   "source": [
    "sns.countplot(x=df.gender,hue=df.stroke)"
   ]
  },
  {
   "cell_type": "code",
   "execution_count": null,
   "id": "4cf19a02",
   "metadata": {},
   "outputs": [],
   "source": [
    "sns.countplot(x=df.work_type,hue=df.stroke)"
   ]
  },
  {
   "cell_type": "code",
   "execution_count": null,
   "id": "da010185",
   "metadata": {},
   "outputs": [],
   "source": [
    "sns.countplot(x=df[df.stroke==1].gender)"
   ]
  },
  {
   "cell_type": "code",
   "execution_count": null,
   "id": "16e3372e",
   "metadata": {},
   "outputs": [],
   "source": [
    "sns.countplot(x=df[df.stroke==1].ever_married)"
   ]
  },
  {
   "cell_type": "code",
   "execution_count": null,
   "id": "c3f318f0",
   "metadata": {},
   "outputs": [],
   "source": [
    "sns.heatmap(df.drop(columns=['id']).corr(),annot=True)"
   ]
  },
  {
   "cell_type": "code",
   "execution_count": null,
   "id": "6af2b25d",
   "metadata": {},
   "outputs": [],
   "source": [
    "sns.countplot(x=df[df.stroke==1].hypertension,hue=df.gender)"
   ]
  },
  {
   "cell_type": "code",
   "execution_count": null,
   "id": "c344c285",
   "metadata": {},
   "outputs": [],
   "source": [
    "sns.catplot(y=\"work_type\", hue=\"stroke\", kind=\"count\",\n",
    "            palette=\"pastel\", edgecolor=\".6\",\n",
    "            data=df[df.stroke==1])"
   ]
  },
  {
   "cell_type": "code",
   "execution_count": null,
   "id": "9762e88b",
   "metadata": {},
   "outputs": [],
   "source": [
    "sns.catplot(y=\"hypertension\", hue=\"stroke\", kind=\"count\",\n",
    "            palette=\"pastel\", edgecolor=\".6\",\n",
    "            data=df)"
   ]
  },
  {
   "cell_type": "code",
   "execution_count": null,
   "id": "6e5cba7d",
   "metadata": {},
   "outputs": [],
   "source": [
    "sns.distplot(df[df['stroke'] == 0][\"age\"], color='green',label='No Stroke') \n",
    "sns.distplot(df[df['stroke'] == 1][\"age\"], color='red',label='Stroke') \n",
    "plt.legend(loc=\"upper left\")\n",
    "plt.title('No Stroke vs Stroke by Age', fontsize=15)\n",
    "plt.show()"
   ]
  },
  {
   "cell_type": "code",
   "execution_count": null,
   "id": "7e24c56b",
   "metadata": {},
   "outputs": [],
   "source": [
    "sns.distplot(df[df['stroke'] == 0][\"avg_glucose_level\"], color='green',label='No Stroke') # No Stroke - green\n",
    "sns.distplot(df[df['stroke'] == 1][\"avg_glucose_level\"], color='red',label='Stroke') # Stroke - Red\n",
    "plt.legend(loc=\"upper left\")\n",
    "plt.title('No Stroke vs Stroke by Avg. Glucose Level')\n",
    "plt.show()"
   ]
  },
  {
   "cell_type": "code",
   "execution_count": null,
   "id": "cf7b7498",
   "metadata": {},
   "outputs": [],
   "source": [
    "df1=df.loc[(df['hypertension']==1) & (df['heart_disease']==1)]\n",
    "plt.pie(df1.stroke.value_counts(),autopct='%1.0f%%',labels=['No Stroke','Stroke'])\n",
    "plt.title(\"Patients with Hypertension & Heart Disease\",y=-0.01)"
   ]
  },
  {
   "cell_type": "code",
   "execution_count": null,
   "id": "ce94d7b0",
   "metadata": {},
   "outputs": [],
   "source": [
    "df1=df.loc[(df['hypertension']==0) & (df['heart_disease']==0)]\n",
    "plt.pie(df1.stroke.value_counts(),autopct='%1.0f%%',labels=['No Stroke','Stroke'])\n",
    "plt.title(\"Patients without Hypertension & Heart Disease\",y=-0.01)"
   ]
  },
  {
   "cell_type": "code",
   "execution_count": null,
   "id": "ae903514",
   "metadata": {},
   "outputs": [],
   "source": []
  },
  {
   "cell_type": "code",
   "execution_count": null,
   "id": "a4ce1709",
   "metadata": {},
   "outputs": [],
   "source": []
  },
  {
   "cell_type": "code",
   "execution_count": null,
   "id": "c641a2a8",
   "metadata": {},
   "outputs": [],
   "source": [
    "# Import label encoder \n",
    "from sklearn import preprocessing \n",
    "\n",
    "# label_encoder object knows \n",
    "# how to understand word labels. \n",
    "label_encoder = preprocessing.LabelEncoder() \n",
    "\n",
    "# Encode labels in column 'species'. \n",
    "df[['gender', 'ever_married','work_type','Residence_type','smoking_status']] = df[['gender', 'ever_married','work_type','Residence_type','smoking_status']].apply(label_encoder.fit_transform)\n",
    "df.head()\n"
   ]
  },
  {
   "cell_type": "code",
   "execution_count": null,
   "id": "2e80302b",
   "metadata": {},
   "outputs": [],
   "source": [
    "X=df.drop(columns=['stroke'])\n",
    "y=df.stroke"
   ]
  },
  {
   "cell_type": "code",
   "execution_count": null,
   "id": "8b306440",
   "metadata": {},
   "outputs": [],
   "source": [
    "from sklearn.model_selection import train_test_split\n",
    "X_train, X_test, y_train, y_test = train_test_split(X, y, test_size=0.25, random_state=42)"
   ]
  },
  {
   "cell_type": "code",
   "execution_count": 48,
   "id": "e433bc4e",
   "metadata": {},
   "outputs": [],
   "source": [
    "#Decision tree Classifier"
   ]
  },
  {
   "cell_type": "code",
   "execution_count": 49,
   "id": "62ae39f4",
   "metadata": {},
   "outputs": [
    {
     "name": "stdout",
     "output_type": "stream",
     "text": [
      "              precision    recall  f1-score   support\n",
      "\n",
      "           0       0.96      0.85      0.90      1198\n",
      "           1       0.15      0.41      0.22        80\n",
      "\n",
      "    accuracy                           0.82      1278\n",
      "   macro avg       0.55      0.63      0.56      1278\n",
      "weighted avg       0.91      0.82      0.86      1278\n",
      "\n"
     ]
    }
   ],
   "source": [
    "from sklearn.tree import DecisionTreeClassifier\n",
    "from sklearn.model_selection import GridSearchCV\n",
    "from sklearn.metrics import classification_report\n",
    "\n",
    "# Define the parameter grid\n",
    "param_grid = {\n",
    "    'criterion': ['gini', 'entropy'],\n",
    "    'max_depth': [None, 5, 10, 15, 20],\n",
    "    'min_samples_split': [2, 5, 10],\n",
    "    'min_samples_leaf': [1, 2, 5]\n",
    "}\n",
    "\n",
    "# Initialize a DecisionTreeClassifier with class_weight='balanced'\n",
    "clf = DecisionTreeClassifier(class_weight='balanced', random_state=42)\n",
    "\n",
    "# Initialize a GridSearchCV object with 'f1' scoring\n",
    "grid_search = GridSearchCV(clf, param_grid, cv=5, scoring='f1')\n",
    "\n",
    "# Fit the GridSearchCV object to the training data\n",
    "grid_search.fit(X_train, y_train)\n",
    "\n",
    "# The best model is stored in grid_search.best_estimator_\n",
    "model_v4a = grid_search.best_estimator_\n",
    "\n",
    "# Generate predictions on the test set\n",
    "y_pred_v4a = model_v4a.predict(X_test)\n",
    "\n",
    "# Print the classification report\n",
    "print(classification_report(y_test, y_pred_v4a))"
   ]
  },
  {
   "cell_type": "code",
   "execution_count": 50,
   "id": "7725abdf",
   "metadata": {},
   "outputs": [],
   "source": [
    "from sklearn.tree import DecisionTreeClassifier\n",
    "clf = DecisionTreeClassifier(random_state=0)\n",
    "clf.fit(X_train,y_train)\n",
    "y_pred=clf.predict(X_test)"
   ]
  },
  {
   "cell_type": "code",
   "execution_count": 51,
   "id": "d0c6c7c5",
   "metadata": {},
   "outputs": [
    {
     "data": {
      "image/png": "[encoded data removed]",
      "text/plain": [
       "<Figure size 640x480 with 1 Axes>"
      ]
     },
     "metadata": {},
     "output_type": "display_data"
    }
   ],
   "source": [
    "from sklearn import metrics\n",
    "#define metrics\n",
    "y_pred_proba = clf.predict_proba(X_test)[::,1]\n",
    "fpr, tpr, _ = metrics.roc_curve(y_test,  y_pred_proba)\n",
    "\n",
    "#create ROC curve\n",
    "plt.plot(fpr,tpr)\n",
    "plt.ylabel('True Positive Rate')\n",
    "plt.xlabel('False Positive Rate')\n",
    "plt.show()"
   ]
  },
  {
   "cell_type": "code",
   "execution_count": 52,
   "id": "bdfb3a22",
   "metadata": {},
   "outputs": [
    {
     "data": {
      "text/plain": [
       "-0.5068238731218697"
      ]
     },
     "execution_count": 52,
     "metadata": {},
     "output_type": "execute_result"
    }
   ],
   "source": [
    "from sklearn.metrics import r2_score\n",
    "r2_score(y_test, y_pred)"
   ]
  },
  {
   "cell_type": "code",
   "execution_count": 53,
   "id": "b08d4c08",
   "metadata": {},
   "outputs": [
    {
     "data": {
      "text/plain": [
       "0.08841940532081377"
      ]
     },
     "execution_count": 53,
     "metadata": {},
     "output_type": "execute_result"
    }
   ],
   "source": [
    "from sklearn.metrics import mean_absolute_error\n",
    "mean_absolute_error(y_test, y_pred)"
   ]
  },
  {
   "cell_type": "code",
   "execution_count": 54,
   "id": "9875059e",
   "metadata": {},
   "outputs": [
    {
     "data": {
      "text/plain": [
       "0.08841940532081377"
      ]
     },
     "execution_count": 54,
     "metadata": {},
     "output_type": "execute_result"
    }
   ],
   "source": [
    "from sklearn.metrics import mean_squared_error\n",
    "mean_squared_error(y_test, y_pred)"
   ]
  },
  {
   "cell_type": "code",
   "execution_count": 55,
   "id": "bece64da",
   "metadata": {},
   "outputs": [
    {
     "data": {
      "text/plain": [
       "array([[1149,   49],\n",
       "       [  64,   16]])"
      ]
     },
     "execution_count": 55,
     "metadata": {},
     "output_type": "execute_result"
    }
   ],
   "source": [
    "# Confusion Matrix\n",
    "from sklearn.metrics import confusion_matrix\n",
    "confusion_matrix(y_test, y_pred) # Accuracy"
   ]
  },
  {
   "cell_type": "code",
   "execution_count": 56,
   "id": "4923e23d",
   "metadata": {},
   "outputs": [
    {
     "data": {
      "text/plain": [
       "0.9115805946791862"
      ]
     },
     "execution_count": 56,
     "metadata": {},
     "output_type": "execute_result"
    }
   ],
   "source": [
    "from sklearn.metrics import accuracy_score\n",
    "accuracy_score(y_test, y_pred) "
   ]
  },
  {
   "cell_type": "code",
   "execution_count": 57,
   "id": "5a2c5cd2",
   "metadata": {},
   "outputs": [
    {
     "data": {
      "text/plain": [
       "0.2"
      ]
     },
     "execution_count": 57,
     "metadata": {},
     "output_type": "execute_result"
    }
   ],
   "source": [
    "from sklearn.metrics import recall_score\n",
    "recall_score(y_test, y_pred) "
   ]
  },
  {
   "cell_type": "code",
   "execution_count": 58,
   "id": "5c387603",
   "metadata": {},
   "outputs": [
    {
     "data": {
      "text/plain": [
       "0.24615384615384617"
      ]
     },
     "execution_count": 58,
     "metadata": {},
     "output_type": "execute_result"
    }
   ],
   "source": [
    "from sklearn.metrics import precision_score\n",
    "precision_score(y_test, y_pred)"
   ]
  },
  {
   "cell_type": "code",
   "execution_count": 59,
   "id": "3f8e529c",
   "metadata": {},
   "outputs": [
    {
     "data": {
      "text/plain": [
       "<Axes: >"
      ]
     },
     "execution_count": 59,
     "metadata": {},
     "output_type": "execute_result"
    },
    {
     "data": {
      "image/png": "[encoded data removed]",
      "text/plain": [
       "<Figure size 640x480 with 2 Axes>"
      ]
     },
     "metadata": {},
     "output_type": "display_data"
    }
   ],
   "source": [
    "from sklearn.metrics import confusion_matrix\n",
    "cm=confusion_matrix(y_test, y_pred) \n",
    "\n",
    "sns.heatmap(cm/np.sum(cm), annot=True, \n",
    "            fmt='.2%', cmap='Blues')"
   ]
  },
  {
   "cell_type": "code",
   "execution_count": 60,
   "id": "b0f5e775",
   "metadata": {},
   "outputs": [
    {
     "data": {
      "text/plain": [
       "0.5795492487479131"
      ]
     },
     "execution_count": 60,
     "metadata": {},
     "output_type": "execute_result"
    }
   ],
   "source": [
    "from sklearn.metrics import roc_auc_score \n",
    "roc_auc_score(y_test, y_pred)"
   ]
  },
  {
   "cell_type": "code",
   "execution_count": 61,
   "id": "1d879c8c",
   "metadata": {},
   "outputs": [
    {
     "data": {
      "text/plain": [
       "0.22068965517241382"
      ]
     },
     "execution_count": 61,
     "metadata": {},
     "output_type": "execute_result"
    }
   ],
   "source": [
    "from sklearn.metrics import f1_score\n",
    "f1_score(y_test, y_pred)"
   ]
  },
  {
   "cell_type": "code",
   "execution_count": 62,
   "id": "1ef42320",
   "metadata": {},
   "outputs": [
    {
     "data": {
      "text/html": [
       "<div>\n",
       "<style scoped>\n",
       "    .dataframe tbody tr th:only-of-type {\n",
       "        vertical-align: middle;\n",
       "    }\n",
       "\n",
       "    .dataframe tbody tr th {\n",
       "        vertical-align: top;\n",
       "    }\n",
       "\n",
       "    .dataframe thead th {\n",
       "        text-align: right;\n",
       "    }\n",
       "</style>\n",
       "<table border=\"1\" class=\"dataframe\">\n",
       "  <thead>\n",
       "    <tr style=\"text-align: right;\">\n",
       "      <th></th>\n",
       "      <th>DT</th>\n",
       "      <th>Score</th>\n",
       "      <th>SVM</th>\n",
       "    </tr>\n",
       "  </thead>\n",
       "  <tbody>\n",
       "    <tr>\n",
       "      <th>0</th>\n",
       "      <td>97.46</td>\n",
       "      <td>Training Accuracy</td>\n",
       "      <td>95.04</td>\n",
       "    </tr>\n",
       "    <tr>\n",
       "      <th>1</th>\n",
       "      <td>93.73</td>\n",
       "      <td>Testing Accuracy</td>\n",
       "      <td>95.37</td>\n",
       "    </tr>\n",
       "    <tr>\n",
       "      <th>2</th>\n",
       "      <td>0.24</td>\n",
       "      <td>Precision</td>\n",
       "      <td>0.13</td>\n",
       "    </tr>\n",
       "    <tr>\n",
       "      <th>3</th>\n",
       "      <td>0.2</td>\n",
       "      <td>Recall</td>\n",
       "      <td>0.92</td>\n",
       "    </tr>\n",
       "    <tr>\n",
       "      <th>4</th>\n",
       "      <td>0.22</td>\n",
       "      <td>f1 Score</td>\n",
       "      <td>0.04</td>\n",
       "    </tr>\n",
       "    <tr>\n",
       "      <th>5</th>\n",
       "      <td>0.57</td>\n",
       "      <td>AUC</td>\n",
       "      <td>0.5</td>\n",
       "    </tr>\n",
       "  </tbody>\n",
       "</table>\n",
       "</div>"
      ],
      "text/plain": [
       "      DT              Score    SVM\n",
       "0  97.46  Training Accuracy  95.04\n",
       "1  93.73   Testing Accuracy  95.37\n",
       "2   0.24          Precision   0.13\n",
       "3    0.2             Recall   0.92\n",
       "4   0.22           f1 Score   0.04\n",
       "5   0.57                AUC    0.5"
      ]
     },
     "execution_count": 62,
     "metadata": {},
     "output_type": "execute_result"
    }
   ],
   "source": [
    "x=[[97.46,'Training Accuracy',95.04],[93.73,'Testing Accuracy',95.37],[0.24,'Precision',0.13],['0.2','Recall','0.92'],[0.22,'f1 Score',0.04],[0.57,'AUC',0.50]]\n",
    "d=pd.DataFrame(x,columns=['DT','Score','SVM'])\n",
    "\n",
    "d"
   ]
  },
  {
   "cell_type": "code",
   "execution_count": 63,
   "id": "c0eee9e8",
   "metadata": {},
   "outputs": [
    {
     "data": {
      "text/html": [
       "<style type=\"text/css\">\n",
       "#T_bc1fe_row0_col0, #T_bc1fe_row0_col1, #T_bc1fe_row0_col2, #T_bc1fe_row1_col0, #T_bc1fe_row1_col1, #T_bc1fe_row1_col2, #T_bc1fe_row2_col0, #T_bc1fe_row2_col1, #T_bc1fe_row2_col2, #T_bc1fe_row3_col0, #T_bc1fe_row3_col1, #T_bc1fe_row3_col2, #T_bc1fe_row4_col0, #T_bc1fe_row4_col1, #T_bc1fe_row4_col2, #T_bc1fe_row5_col0, #T_bc1fe_row5_col1, #T_bc1fe_row5_col2 {\n",
       "  text-align: center;\n",
       "}\n",
       "</style>\n",
       "<table id=\"T_bc1fe\">\n",
       "  <thead>\n",
       "    <tr>\n",
       "      <th class=\"blank level0\" >&nbsp;</th>\n",
       "      <th id=\"T_bc1fe_level0_col0\" class=\"col_heading level0 col0\" >DT</th>\n",
       "      <th id=\"T_bc1fe_level0_col1\" class=\"col_heading level0 col1\" >Score</th>\n",
       "      <th id=\"T_bc1fe_level0_col2\" class=\"col_heading level0 col2\" >SVM</th>\n",
       "    </tr>\n",
       "  </thead>\n",
       "  <tbody>\n",
       "    <tr>\n",
       "      <th id=\"T_bc1fe_level0_row0\" class=\"row_heading level0 row0\" >0</th>\n",
       "      <td id=\"T_bc1fe_row0_col0\" class=\"data row0 col0\" >97.460000</td>\n",
       "      <td id=\"T_bc1fe_row0_col1\" class=\"data row0 col1\" >Training Accuracy</td>\n",
       "      <td id=\"T_bc1fe_row0_col2\" class=\"data row0 col2\" >95.040000</td>\n",
       "    </tr>\n",
       "    <tr>\n",
       "      <th id=\"T_bc1fe_level0_row1\" class=\"row_heading level0 row1\" >1</th>\n",
       "      <td id=\"T_bc1fe_row1_col0\" class=\"data row1 col0\" >93.730000</td>\n",
       "      <td id=\"T_bc1fe_row1_col1\" class=\"data row1 col1\" >Testing Accuracy</td>\n",
       "      <td id=\"T_bc1fe_row1_col2\" class=\"data row1 col2\" >95.370000</td>\n",
       "    </tr>\n",
       "    <tr>\n",
       "      <th id=\"T_bc1fe_level0_row2\" class=\"row_heading level0 row2\" >2</th>\n",
       "      <td id=\"T_bc1fe_row2_col0\" class=\"data row2 col0\" >0.240000</td>\n",
       "      <td id=\"T_bc1fe_row2_col1\" class=\"data row2 col1\" >Precision</td>\n",
       "      <td id=\"T_bc1fe_row2_col2\" class=\"data row2 col2\" >0.130000</td>\n",
       "    </tr>\n",
       "    <tr>\n",
       "      <th id=\"T_bc1fe_level0_row3\" class=\"row_heading level0 row3\" >3</th>\n",
       "      <td id=\"T_bc1fe_row3_col0\" class=\"data row3 col0\" >0.2</td>\n",
       "      <td id=\"T_bc1fe_row3_col1\" class=\"data row3 col1\" >Recall</td>\n",
       "      <td id=\"T_bc1fe_row3_col2\" class=\"data row3 col2\" >0.92</td>\n",
       "    </tr>\n",
       "    <tr>\n",
       "      <th id=\"T_bc1fe_level0_row4\" class=\"row_heading level0 row4\" >4</th>\n",
       "      <td id=\"T_bc1fe_row4_col0\" class=\"data row4 col0\" >0.220000</td>\n",
       "      <td id=\"T_bc1fe_row4_col1\" class=\"data row4 col1\" >f1 Score</td>\n",
       "      <td id=\"T_bc1fe_row4_col2\" class=\"data row4 col2\" >0.040000</td>\n",
       "    </tr>\n",
       "    <tr>\n",
       "      <th id=\"T_bc1fe_level0_row5\" class=\"row_heading level0 row5\" >5</th>\n",
       "      <td id=\"T_bc1fe_row5_col0\" class=\"data row5 col0\" >0.570000</td>\n",
       "      <td id=\"T_bc1fe_row5_col1\" class=\"data row5 col1\" >AUC</td>\n",
       "      <td id=\"T_bc1fe_row5_col2\" class=\"data row5 col2\" >0.500000</td>\n",
       "    </tr>\n",
       "  </tbody>\n",
       "</table>\n"
      ],
      "text/plain": [
       "<pandas.io.formats.style.Styler at 0x168589ad0>"
      ]
     },
     "metadata": {},
     "output_type": "display_data"
    }
   ],
   "source": [
    "left_aligned_df = d.style.set_properties(**{'text-align': 'center'})\n",
    "display(left_aligned_df)"
   ]
  },
  {
   "cell_type": "code",
   "execution_count": 64,
   "id": "28ce2460",
   "metadata": {},
   "outputs": [],
   "source": [
    "#SVM"
   ]
  },
  {
   "cell_type": "code",
   "execution_count": 71,
   "id": "34b3b0a4",
   "metadata": {},
   "outputs": [],
   "source": [
    "from sklearn.svm import SVC \n",
    "clf = SVC(kernel='linear') \n",
    "clf.fit(X_train,y_train)\n",
    "y_pred=clf.predict(X_test)"
   ]
  },
  {
   "cell_type": "code",
   "execution_count": 66,
   "id": "1c37f30e",
   "metadata": {},
   "outputs": [
    {
     "data": {
      "image/png": "[encoded data removed]",
      "text/plain": [
       "<Figure size 640x480 with 1 Axes>"
      ]
     },
     "metadata": {},
     "output_type": "display_data"
    }
   ],
   "source": [
    "from sklearn import metrics\n",
    "#define metrics\n",
    "fpr, tpr, _ = metrics.roc_curve(y_test,  y_pred)\n",
    "\n",
    "#create ROC curve\n",
    "plt.plot(fpr,tpr)\n",
    "plt.ylabel('True Positive Rate')\n",
    "plt.xlabel('False Positive Rate')\n",
    "plt.show()"
   ]
  },
  {
   "cell_type": "code",
   "execution_count": 67,
   "id": "16df4645",
   "metadata": {},
   "outputs": [
    {
     "data": {
      "text/plain": [
       "<Axes: >"
      ]
     },
     "execution_count": 67,
     "metadata": {},
     "output_type": "execute_result"
    },
    {
     "data": {
      "image/png": "[encoded data removed]",
      "text/plain": [
       "<Figure size 640x480 with 2 Axes>"
      ]
     },
     "metadata": {},
     "output_type": "display_data"
    }
   ],
   "source": [
    "# Confusion Matrix\n",
    "from sklearn.metrics import confusion_matrix,ConfusionMatrixDisplay\n",
    "cm=confusion_matrix(y_test, y_pred)\n",
    "\n",
    "sns.heatmap(cm/np.sum(cm), annot=True, \n",
    "            fmt='.2%', cmap='Blues')"
   ]
  },
  {
   "cell_type": "code",
   "execution_count": null,
   "id": "8f7693a0",
   "metadata": {},
   "outputs": [],
   "source": [
    "\n",
    "# Define the parameter grid\n",
    "param_grid = {'C':[1,10,100,1000],'gamma':[1,0.1,0.001,0.0001], 'kernel':['linear','rbf']}\n",
    "\n",
    "# Initialize a SVC\n",
    "clf = SVC()\n",
    "\n",
    "# Initialize a GridSearchCV object with 'f1' scoring\n",
    "grid_search = GridSearchCV(clf, param_grid, cv=5, scoring='f1')\n",
    "\n",
    "# Fit the GridSearchCV object to the training data\n",
    "grid_search.fit(X_train, y_train)\n",
    "\n",
    "# The best model is stored in grid_search.best_estimator_\n",
    "model_v4a = grid_search.best_estimator_\n",
    "\n",
    "# Generate predictions on the test set\n",
    "y_pred_v4a = model_v4a.predict(X_test)\n",
    "\n",
    "# Print the classification report\n",
    "print(classification_report(y_test, y_pred_v4a))"
   ]
  },
  {
   "cell_type": "code",
   "execution_count": null,
   "id": "842ca79e",
   "metadata": {},
   "outputs": [],
   "source": []
  },
  {
   "cell_type": "code",
   "execution_count": 153,
   "id": "68b001a5",
   "metadata": {},
   "outputs": [
    {
     "data": {
      "text/plain": [
       "0.5070742904841402"
      ]
     },
     "execution_count": 153,
     "metadata": {},
     "output_type": "execute_result"
    }
   ],
   "source": [
    "from sklearn.metrics import roc_auc_score \n",
    "roc_auc_score(y_test, y_pred)"
   ]
  },
  {
   "cell_type": "code",
   "execution_count": 154,
   "id": "1ab834c3",
   "metadata": {},
   "outputs": [
    {
     "data": {
      "text/plain": [
       "0.9287949921752738"
      ]
     },
     "execution_count": 154,
     "metadata": {},
     "output_type": "execute_result"
    }
   ],
   "source": [
    "from sklearn.metrics import accuracy_score\n",
    "accuracy_score(y_test, y_pred) # Recall"
   ]
  },
  {
   "cell_type": "code",
   "execution_count": 155,
   "id": "c6e46be4",
   "metadata": {},
   "outputs": [
    {
     "data": {
      "text/plain": [
       "0.025"
      ]
     },
     "execution_count": 155,
     "metadata": {},
     "output_type": "execute_result"
    }
   ],
   "source": [
    "from sklearn.metrics import recall_score\n",
    "recall_score(y_test, y_pred) # Precision"
   ]
  },
  {
   "cell_type": "code",
   "execution_count": 156,
   "id": "4dc63004",
   "metadata": {},
   "outputs": [
    {
     "data": {
      "text/plain": [
       "0.13333333333333333"
      ]
     },
     "execution_count": 156,
     "metadata": {},
     "output_type": "execute_result"
    }
   ],
   "source": [
    "from sklearn.metrics import precision_score\n",
    "precision_score(y_test, y_pred)"
   ]
  },
  {
   "cell_type": "code",
   "execution_count": 157,
   "id": "9b0a0f8e",
   "metadata": {},
   "outputs": [
    {
     "data": {
      "text/plain": [
       "0.04210526315789474"
      ]
     },
     "execution_count": 157,
     "metadata": {},
     "output_type": "execute_result"
    }
   ],
   "source": [
    "from sklearn.metrics import f1_score\n",
    "f1_score(y_test, y_pred)"
   ]
  },
  {
   "cell_type": "code",
   "execution_count": 159,
   "id": "5784119e",
   "metadata": {},
   "outputs": [
    {
     "data": {
      "image/png": "[encoded data removed]",
      "text/plain": [
       "<Figure size 640x480 with 1 Axes>"
      ]
     },
     "metadata": {},
     "output_type": "display_data"
    }
   ],
   "source": [
    "#ROC Curve\n",
    "from sklearn.metrics import roc_curve\n",
    "\n",
    "clf1 = DecisionTreeClassifier(random_state=0)\n",
    "clf1.fit(X_train,y_train)\n",
    "y_pred_prob1 = clf1.predict_proba(X_test)[:,1]\n",
    "fpr1 , tpr1, thresholds1 = roc_curve(y_test, y_pred_prob1)\n",
    "\n",
    "clf2 = SVC(kernel='linear',probability=True) \n",
    "clf2.fit(X_train,y_train)\n",
    "y_pred_prob2 = clf2.predict_proba(X_test)[:,1]\n",
    "fpr2 , tpr2, thresholds2 = roc_curve(y_test, y_pred_prob2)\n",
    "\n",
    "\n",
    "\n",
    "\n",
    "\n",
    "plt.plot([0,1],[0,1], 'k--')\n",
    "plt.plot(fpr1, tpr1, label= \"Decision Tree\")\n",
    "plt.plot(fpr2, tpr2, label= \"SVM\")\n",
    "\n",
    "plt.legend()\n",
    "plt.xlabel(\"FPR\")\n",
    "plt.ylabel(\"TPR\")\n",
    "plt.title('Receiver Operating Characteristic')\n",
    "plt.show()"
   ]
  },
  {
   "cell_type": "code",
   "execution_count": null,
   "id": "98c8f01a",
   "metadata": {},
   "outputs": [],
   "source": []
  },
  {
   "cell_type": "code",
   "execution_count": null,
   "id": "c2649307",
   "metadata": {},
   "outputs": [],
   "source": []
  }
 ],
 "metadata": {
  "kernelspec": {
   "display_name": "Python 3 (ipykernel)",
   "language": "python",
   "name": "python3"
  },
  "language_info": {
   "codemirror_mode": {
    "name": "ipython",
    "version": 3
   },
   "file_extension": ".py",
   "mimetype": "text/x-python",
   "name": "python",
   "nbconvert_exporter": "python",
   "pygments_lexer": "ipython3",
   "version": "3.11.6"
  }
 },
 "nbformat": 4,
 "nbformat_minor": 5
}
